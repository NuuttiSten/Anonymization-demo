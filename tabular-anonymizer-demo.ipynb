{
  "cells": [
    {
      "cell_type": "markdown",
      "source": [
        "# Anonymize data with tabular anonymizer\r\n",
        "\r\n",
        "Import libraries."
      ],
      "metadata": {
        "nteract": {
          "transient": {
            "deleting": false
          }
        }
      }
    },
    {
      "cell_type": "code",
      "source": [
        "from tabular_anonymizer import DataFrameAnonymizer\r\n",
        "import pandas as pd"
      ],
      "outputs": [],
      "execution_count": null,
      "metadata": {
        "jupyter": {
          "source_hidden": false,
          "outputs_hidden": false
        },
        "nteract": {
          "transient": {
            "deleting": false
          }
        },
        "gather": {
          "logged": 1641300315356
        }
      }
    },
    {
      "cell_type": "markdown",
      "source": [
        "Read data. The dataset is Adult Census data. Label is income information, where 0 corresponds to < 50K $ \r\n",
        "\r\n",
        "per year, and 1 corresponds to >= 50K $."
      ],
      "metadata": {
        "nteract": {
          "transient": {
            "deleting": false
          }
        }
      }
    },
    {
      "cell_type": "code",
      "source": [
        "file1 = \"./data/adult.csv\"\r\n",
        "df = pd.read_csv(file1, sep=\",\", index_col=0)\r\n",
        "df.reset_index()\r\n",
        "df.index = range(len(df))\r\n",
        "df.head()"
      ],
      "outputs": [],
      "execution_count": null,
      "metadata": {
        "jupyter": {
          "source_hidden": false,
          "outputs_hidden": false
        },
        "nteract": {
          "transient": {
            "deleting": false
          }
        },
        "gather": {
          "logged": 1641300317987
        }
      }
    },
    {
      "cell_type": "markdown",
      "source": [
        "\r\n",
        "For the purposes of this demonstration, we drop some columns and rows."
      ],
      "metadata": {
        "nteract": {
          "transient": {
            "deleting": false
          }
        }
      }
    },
    {
      "cell_type": "code",
      "source": [
        "# Keep only 1000 rows\r\n",
        "df = df.loc[0:999,]\r\n",
        "df.shape "
      ],
      "outputs": [],
      "execution_count": null,
      "metadata": {
        "jupyter": {
          "source_hidden": false,
          "outputs_hidden": false
        },
        "nteract": {
          "transient": {
            "deleting": false
          }
        },
        "gather": {
          "logged": 1641300321993
        }
      }
    },
    {
      "cell_type": "code",
      "source": [
        "# Drop some columns\r\n",
        "df = df.drop(columns = [\"fnlwgt\", \"education-num\", \"occupation\", \"race\", \"native-country\"])\r\n",
        "df.head()"
      ],
      "outputs": [],
      "execution_count": null,
      "metadata": {
        "jupyter": {
          "source_hidden": false,
          "outputs_hidden": false
        },
        "nteract": {
          "transient": {
            "deleting": false
          }
        },
        "gather": {
          "logged": 1641300324132
        }
      }
    },
    {
      "cell_type": "code",
      "source": [
        "# Setup Sensitive attributes you dont want to alter\r\n",
        "sensitive_columns = ['label']\r\n",
        "# Setup columns that are generalized with average, not interval\r\n",
        "avg_columns = ['capital-gain', 'capital-loss']\r\n",
        "\r\n",
        "# Set k\r\n",
        "k = 10"
      ],
      "outputs": [],
      "execution_count": null,
      "metadata": {
        "jupyter": {
          "source_hidden": false,
          "outputs_hidden": false
        },
        "nteract": {
          "transient": {
            "deleting": false
          }
        },
        "gather": {
          "logged": 1641300327927
        }
      }
    },
    {
      "cell_type": "markdown",
      "source": [
        "Run the anonymizer."
      ],
      "metadata": {
        "nteract": {
          "transient": {
            "deleting": false
          }
        }
      }
    },
    {
      "cell_type": "code",
      "source": [
        "print(\"Run tabular_anonymizer. Sensitive columns: \", sensitive_columns, \", k=\", k)\r\n",
        "p = DataFrameAnonymizer(df, sensitive_columns, avg_columns=avg_columns)"
      ],
      "outputs": [],
      "execution_count": null,
      "metadata": {
        "jupyter": {
          "source_hidden": false,
          "outputs_hidden": false
        },
        "nteract": {
          "transient": {
            "deleting": false
          }
        },
        "gather": {
          "logged": 1641300331042
        }
      }
    },
    {
      "cell_type": "code",
      "source": [
        "# New anonymized dataframe is formed\r\n",
        "df_anonymized = p.anonymize_k_anonymity(k=k)\r\n",
        "df_anonymized.head(20)"
      ],
      "outputs": [],
      "execution_count": null,
      "metadata": {
        "jupyter": {
          "source_hidden": false,
          "outputs_hidden": false
        },
        "nteract": {
          "transient": {
            "deleting": false
          }
        },
        "gather": {
          "logged": 1641300335254
        }
      }
    },
    {
      "cell_type": "markdown",
      "source": [
        "Write anonymized dataframe to file.\r\n",
        "\r\n",
        "If you want to open the files in Excel, use as separator something other than \",\", for example \";\"."
      ],
      "metadata": {
        "nteract": {
          "transient": {
            "deleting": false
          }
        }
      }
    },
    {
      "cell_type": "code",
      "source": [
        "# Original small data to csv\r\n",
        "df.to_csv(\"./data/adult-small.csv\", index=False)\r\n",
        "# Anonymized dataframe to csv\r\n",
        "df_anonymized.to_csv(\"./data/adult-anonymized.csv\", index=False)#, sep=\";\")"
      ],
      "outputs": [],
      "execution_count": null,
      "metadata": {
        "jupyter": {
          "source_hidden": false,
          "outputs_hidden": false
        },
        "nteract": {
          "transient": {
            "deleting": false
          }
        },
        "gather": {
          "logged": 1641300340356
        }
      }
    },
    {
      "cell_type": "markdown",
      "source": [
        "## Example: Generating semi-synthetic tidy data from the Mondrian-k -anonymized data\r\n",
        "\r\n",
        "You may have noticed, that the Mondrian-k -anonymized data is no longer tidy (each row contains an observation, each cell contains a single value). \r\n",
        "Untidy data is difficult to utilize for analysis and ML. \r\n",
        "Let's generate tidy samples from the anonymized dataset by bootstrapping.\r\n",
        "Note that this data is now synthetic: the data points do not anymore link to individuals. However, the dataset should have similar statistical properties as the original one."
      ],
      "metadata": {
        "nteract": {
          "transient": {
            "deleting": false
          }
        }
      }
    },
    {
      "cell_type": "code",
      "source": [
        "# import numpy as np\r\n",
        "# new dataframe for storing generated data\r\n",
        "bootstrap_c = 1 # constant for tuning bootstrapping\r\n",
        "value_range = ['age', 'hours-per-week']\r\n",
        "numeric = ['capital-gain', 'capital-loss', 'label']\r\n",
        "category_list = ['workclass', 'education', 'marital-status', 'relationship', 'sex']\r\n",
        "colnames = df_anonymized.columns\r\n",
        "df_gen = []#pd.DataFrame(columns = colnames)\r\n",
        "df_gen\r\n",
        "# iterate through anonymized data\r\n",
        "for _, row in df_anonymized.head(10).iterrows(): # just 10 rows for example, you can try increasing the generated data\r\n",
        "    # generate new samples from each row\r\n",
        "    # tune bootstrap_c for bootstrapping\r\n",
        "    for _ in range(int(row['label_count']*bootstrap_c)):\r\n",
        "        new_row = [] # new sample\r\n",
        "        for colname in colnames: # go through columns\r\n",
        "            if colname in numeric: # just take the value as-is\r\n",
        "                value = row[colname]\r\n",
        "            elif colname in value_range: # sample from value range\r\n",
        "                value_range = np.array(row[colname][0].split('-')).astype(int)\r\n",
        "                value = np.random.rand()*(value_range[1]-value_range[0])+value_range[0]\r\n",
        "            elif colname in category_list: # sample from list of alternatives\r\n",
        "                value = np.random.choice(row[colname][0].split(','))\r\n",
        "            else:\r\n",
        "                # define alternative strategies\r\n",
        "                pass\r\n",
        "            new_row.append(value)\r\n",
        "        #print(new_row)\r\n",
        "        df_gen.append(new_row)\r\n",
        "df_gen = pd.DataFrame(df_gen, columns=df_anonymized.columns)\r\n",
        "df_gen = df_gen.sample(frac = 1)\r\n",
        "\r\n",
        "# Exercise:\r\n",
        "# You can try plotting the old and new data\r\n",
        "# what happens to the data quality?\r\n"
      ],
      "outputs": [],
      "execution_count": null,
      "metadata": {
        "jupyter": {
          "source_hidden": false,
          "outputs_hidden": false
        },
        "nteract": {
          "transient": {
            "deleting": false
          }
        }
      }
    },
    {
      "cell_type": "markdown",
      "source": [
        "## Exercises: Anonymization and data quality\r\n",
        "\r\n",
        "1. Try plotting the data in a representative way before (df) and after anonymization & bootstrapping (df_gen). What happens?\r\n",
        "\r\n",
        "2. Try fitting some ML model to the data or part of it before and after anonymization & bootstrapping. What happens?\r\n",
        "\r\n",
        "3. Can you explain how anonymization can affect data & model quality?\r\n"
      ],
      "metadata": {
        "nteract": {
          "transient": {
            "deleting": false
          }
        }
      }
    }
  ],
  "metadata": {
    "kernelspec": {
      "name": "anonymization-demo",
      "language": "python",
      "display_name": "Python (anonymization-demo)"
    },
    "language_info": {
      "name": "python",
      "version": "3.9.7",
      "mimetype": "text/x-python",
      "codemirror_mode": {
        "name": "ipython",
        "version": 3
      },
      "pygments_lexer": "ipython3",
      "nbconvert_exporter": "python",
      "file_extension": ".py"
    },
    "kernel_info": {
      "name": "anonymization-demo"
    },
    "nteract": {
      "version": "nteract-front-end@1.0.0"
    },
    "microsoft": {
      "host": {
        "AzureML": {
          "notebookHasBeenCompleted": true
        }
      }
    }
  },
  "nbformat": 4,
  "nbformat_minor": 2
}